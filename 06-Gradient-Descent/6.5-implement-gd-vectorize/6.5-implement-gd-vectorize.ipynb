{
 "cells": [
  {
   "cell_type": "code",
   "execution_count": 5,
   "metadata": {
    "collapsed": true
   },
   "outputs": [],
   "source": [
    "import numpy as np\n",
    "import matplotlib.pyplot as plt\n",
    "from sklearn import datasets\n",
    "\n",
    "boston = datasets.load_boston()\n",
    "X = boston.data\n",
    "y = boston.target\n",
    "\n",
    "X = X[y < 50.0]\n",
    "y = y[y < 50.0]"
   ]
  },
  {
   "cell_type": "code",
   "execution_count": 6,
   "outputs": [],
   "source": [
    "from sklearn.model_selection import train_test_split\n",
    "X_train, X_test, y_train, y_test = train_test_split(X, y, random_state=666)"
   ],
   "metadata": {
    "collapsed": false,
    "pycharm": {
     "name": "#%%\n"
    }
   }
  },
  {
   "cell_type": "code",
   "execution_count": 7,
   "outputs": [
    {
     "name": "stdout",
     "output_type": "stream",
     "text": [
      "nan\n",
      "[nan nan nan nan nan nan nan nan nan nan nan nan nan]\n",
      "nan\n"
     ]
    },
    {
     "name": "stderr",
     "output_type": "stream",
     "text": [
      "/opt/anaconda3/lib/python3.7/site-packages/numpy/core/fromnumeric.py:90: RuntimeWarning: overflow encountered in reduce\n",
      "  return ufunc.reduce(obj, axis, dtype, out, **passkwargs)\n",
      "/mycode/code-basic-machine-learning/06-Gradient-Descent/6.5-implement-gd-vectorize/myML/LinearRegression.py:28: RuntimeWarning: overflow encountered in square\n",
      "  return np.sum((X_b.dot(theta) - y) ** 2)\n",
      "/mycode/code-basic-machine-learning/06-Gradient-Descent/6.5-implement-gd-vectorize/myML/LinearRegression.py:47: RuntimeWarning: invalid value encountered in double_scalars\n",
      "  if abs(J(X_b, y, theta) - J(X_b, y, last_theta)) < epsilon:\n",
      "/mycode/code-basic-machine-learning/06-Gradient-Descent/6.5-implement-gd-vectorize/myML/LinearRegression.py:38: RuntimeWarning: overflow encountered in multiply\n",
      "  return X_b.T.dot(X_b.dot(theta) - y) * 2 / len(X_b)\n"
     ]
    }
   ],
   "source": [
    "import os\n",
    "import sys\n",
    "sys.path.append('/mycode/code-basic-machine-learning/06-Gradient-Descent/6.5-implement-gd-vectorize/')\n",
    "\n",
    "from myML.LinearRegression import LinearRegression\n",
    "\n",
    "lr = LinearRegression()\n",
    "lr.fit_gd(X_train, y_train,eta=1e-2, n_iters=1e2)\n",
    "print(lr.intercept_)\n",
    "print(lr.coef_)\n",
    "print(lr.score(X_test, y_test))"
   ],
   "metadata": {
    "collapsed": false,
    "pycharm": {
     "name": "#%%\n"
    }
   }
  },
  {
   "cell_type": "code",
   "execution_count": 10,
   "outputs": [
    {
     "name": "stdout",
     "output_type": "stream",
     "text": [
      "21.541689373296954\n",
      "[-1.00385072  0.72331319 -0.29737898 -0.02155309 -1.28925464  2.28930192\n",
      " -0.4060006  -2.2922225   2.10490851 -2.03390148 -1.86534407  0.76860359\n",
      " -2.84138333]\n",
      "0.8009383987677815\n"
     ]
    }
   ],
   "source": [
    "from sklearn.preprocessing import StandardScaler\n",
    "standard_scaler = StandardScaler()\n",
    "standard_scaler.fit(X_train)\n",
    "X_train_standard = standard_scaler.transform(X_train)\n",
    "lr = LinearRegression()\n",
    "lr.fit_gd(X_train_standard, y_train, n_iters=1e6)\n",
    "print(lr.intercept_)\n",
    "print(lr.coef_)\n",
    "\n",
    "X_test_standard = standard_scaler.transform(X_test)\n",
    "print(lr.score(X_test_standard, y_test))"
   ],
   "metadata": {
    "collapsed": false,
    "pycharm": {
     "name": "#%%\n"
    }
   }
  },
  {
   "cell_type": "code",
   "execution_count": 8,
   "outputs": [],
   "source": [
    "\n"
   ],
   "metadata": {
    "collapsed": false,
    "pycharm": {
     "name": "#%%\n"
    }
   }
  }
 ],
 "metadata": {
  "kernelspec": {
   "display_name": "Python 3",
   "language": "python",
   "name": "python3"
  },
  "language_info": {
   "codemirror_mode": {
    "name": "ipython",
    "version": 2
   },
   "file_extension": ".py",
   "mimetype": "text/x-python",
   "name": "python",
   "nbconvert_exporter": "python",
   "pygments_lexer": "ipython2",
   "version": "2.7.6"
  }
 },
 "nbformat": 4,
 "nbformat_minor": 0
}