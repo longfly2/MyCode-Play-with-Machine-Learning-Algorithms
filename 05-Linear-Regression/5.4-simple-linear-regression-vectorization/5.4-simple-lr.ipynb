{
 "cells": [
  {
   "cell_type": "markdown",
   "source": [
    "### 向量化实现的性能测试"
   ],
   "metadata": {
    "collapsed": false
   }
  },
  {
   "cell_type": "code",
   "execution_count": 1,
   "metadata": {
    "collapsed": true
   },
   "outputs": [],
   "source": [
    "import numpy as np\n",
    "import matplotlib.pyplot as plt\n",
    "\n",
    "s = 1000000\n",
    "x = np.array(np.random.random(size=s))\n",
    "y = x *2 + 3 + np.random.normal(size=s)"
   ]
  },
  {
   "cell_type": "code",
   "execution_count": 2,
   "outputs": [
    {
     "name": "stdout",
     "output_type": "stream",
     "text": [
      "847 ms ± 29.4 ms per loop (mean ± std. dev. of 7 runs, 1 loop each)\n",
      "7.14 ms ± 269 µs per loop (mean ± std. dev. of 7 runs, 100 loops each)\n",
      "SimpleLinearRegression1() a_=1.996022, b=3.002681\n",
      "SimpleLinearRegression2() a_=1.996022, b=3.002681\n"
     ]
    }
   ],
   "source": [
    "import os\n",
    "import sys\n",
    "sys.path.append('/mycode/code-basic-machine-learning/05-Linear-Regression/5.4-simple-linear-regression-vectorization')\n",
    "\n",
    "from myML.SimpleLinearRegression import SimpleLinearRegression1\n",
    "from myML.SimpleLinearRegression import SimpleLinearRegression2\n",
    "\n",
    "slr1 = SimpleLinearRegression1()\n",
    "slr2 = SimpleLinearRegression2()\n",
    "\n",
    "%timeit slr1.fit(x, y)\n",
    "%timeit slr2.fit(x, y)\n",
    "\n",
    "print(slr1)\n",
    "print(slr2)\n",
    "\n"
   ],
   "metadata": {
    "collapsed": false,
    "pycharm": {
     "name": "#%%\n"
    }
   }
  },
  {
   "cell_type": "code",
   "execution_count": null,
   "outputs": [],
   "source": [
    "\n"
   ],
   "metadata": {
    "collapsed": false,
    "pycharm": {
     "name": "#%%\n"
    }
   }
  }
 ],
 "metadata": {
  "kernelspec": {
   "display_name": "Python 3",
   "language": "python",
   "name": "python3"
  },
  "language_info": {
   "codemirror_mode": {
    "name": "ipython",
    "version": 2
   },
   "file_extension": ".py",
   "mimetype": "text/x-python",
   "name": "python",
   "nbconvert_exporter": "python",
   "pygments_lexer": "ipython2",
   "version": "2.7.6"
  }
 },
 "nbformat": 4,
 "nbformat_minor": 0
}