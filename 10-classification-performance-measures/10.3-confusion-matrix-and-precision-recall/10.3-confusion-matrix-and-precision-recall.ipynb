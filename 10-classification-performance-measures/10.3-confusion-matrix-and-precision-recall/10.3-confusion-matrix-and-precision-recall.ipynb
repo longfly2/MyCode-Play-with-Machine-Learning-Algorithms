{
 "cells": [
  {
   "cell_type": "code",
   "execution_count": 1,
   "metadata": {
    "collapsed": true
   },
   "outputs": [
    {
     "name": "stdout",
     "output_type": "stream",
     "text": [
      "\n"
     ]
    }
   ],
   "source": [
    "import numpy as np\n",
    "from sklearn import datasets\n",
    "\n",
    "digits = datasets.load_digits()\n",
    "X = digits.data\n",
    "\n",
    "y = digits.target.copy()\n",
    "\n",
    "print()\n",
    "y[digits.target==9] = 1\n",
    "y[digits.target!=9] = 0\n"
   ]
  },
  {
   "cell_type": "code",
   "execution_count": 5,
   "outputs": [
    {
     "name": "stderr",
     "output_type": "stream",
     "text": [
      "/opt/anaconda3/lib/python3.7/site-packages/sklearn/linear_model/_logistic.py:940: ConvergenceWarning: lbfgs failed to converge (status=1):\n",
      "STOP: TOTAL NO. of ITERATIONS REACHED LIMIT.\n",
      "\n",
      "Increase the number of iterations (max_iter) or scale the data as shown in:\n",
      "    https://scikit-learn.org/stable/modules/preprocessing.html\n",
      "Please also refer to the documentation for alternative solver options:\n",
      "    https://scikit-learn.org/stable/modules/linear_model.html#logistic-regression\n",
      "  extra_warning_msg=_LOGISTIC_SOLVER_CONVERGENCE_MSG)\n"
     ]
    },
    {
     "data": {
      "text/plain": "0.9755555555555555"
     },
     "execution_count": 5,
     "metadata": {},
     "output_type": "execute_result"
    }
   ],
   "source": [
    "from sklearn.model_selection import train_test_split\n",
    "X_train, X_test, y_train, y_test = train_test_split(X, y, random_state=666)\n",
    "\n",
    "from sklearn.linear_model import LogisticRegression\n",
    "lr = LogisticRegression()\n",
    "lr.fit(X_train, y_train)\n",
    "lr.score(X_test, y_test)\n"
   ],
   "metadata": {
    "collapsed": false,
    "pycharm": {
     "name": "#%%\n"
    }
   }
  },
  {
   "cell_type": "code",
   "execution_count": 6,
   "outputs": [
    {
     "name": "stdout",
     "output_type": "stream",
     "text": [
      "[[403   2]\n",
      " [  9  36]]\n",
      "0.9473684210526315\n",
      "0.8\n"
     ]
    }
   ],
   "source": [
    "y_test_predict = lr.predict(X_test)\n",
    "\n",
    "def TN(y_true, y_predict):\n",
    "    assert len(y_true) == len(y_predict), 'length must be the same.'\n",
    "    return np.sum(np.array((y_true == 0) & (y_predict==0), dtype='int'))\n",
    "\n",
    "def FP(y_true, y_predict):\n",
    "    assert len(y_true) == len(y_predict), 'length must be the same.'\n",
    "    return np.sum(np.array((y_true == 0) & (y_predict==1), dtype='int'))\n",
    "\n",
    "def FN(y_true, y_predict):\n",
    "    assert len(y_true) == len(y_predict), 'length must be the same.'\n",
    "    return np.sum(np.array((y_true == 1) & (y_predict==0), dtype='int'))\n",
    "\n",
    "def TP(y_true, y_predict):\n",
    "    assert len(y_true) == len(y_predict), 'length must be the same.'\n",
    "    return np.sum(np.array((y_true == 1) & (y_predict==1), dtype='int'))\n",
    "\n",
    "def confusion_matrix(y_true, y_predict):\n",
    "    return np.array([\n",
    "        [TN(y_true, y_predict), FP(y_true, y_predict)],\n",
    "        [FN(y_true, y_predict), TP(y_true, y_predict)]])\n",
    "\n",
    "def precision_score(y_true, y_predict):\n",
    "    fp = FP(y_true, y_predict)\n",
    "    tp = TP(y_true, y_predict)\n",
    "    return tp / (fp + tp)\n",
    "\n",
    "def recall_score(y_true, y_predict):\n",
    "    fn = FN(y_true, y_predict)\n",
    "    tp = TP(y_true, y_predict)\n",
    "    return tp / (fn + tp)\n",
    "\n",
    "print(confusion_matrix(y_test, y_test_predict))\n",
    "print(precision_score(y_test, y_test_predict))\n",
    "print(recall_score(y_test, y_test_predict))"
   ],
   "metadata": {
    "collapsed": false,
    "pycharm": {
     "name": "#%%\n"
    }
   }
  },
  {
   "cell_type": "code",
   "execution_count": 4,
   "outputs": [
    {
     "name": "stdout",
     "output_type": "stream",
     "text": [
      "[[403   2]\n",
      " [  9  36]]\n",
      "0.9473684210526315\n",
      "0.8\n"
     ]
    }
   ],
   "source": [
    "from sklearn.metrics import confusion_matrix\n",
    "from sklearn.metrics import precision_score\n",
    "from sklearn.metrics import recall_score\n",
    "\n",
    "print(confusion_matrix(y_test, y_test_predict))\n",
    "print(precision_score(y_test, y_test_predict))\n",
    "print(recall_score(y_test, y_test_predict))\n",
    "\n",
    "\n",
    "\n"
   ],
   "metadata": {
    "collapsed": false,
    "pycharm": {
     "name": "#%%\n"
    }
   }
  },
  {
   "cell_type": "code",
   "execution_count": null,
   "outputs": [],
   "source": [
    "\n"
   ],
   "metadata": {
    "collapsed": false,
    "pycharm": {
     "name": "#%%\n"
    }
   }
  }
 ],
 "metadata": {
  "kernelspec": {
   "display_name": "Python 3",
   "language": "python",
   "name": "python3"
  },
  "language_info": {
   "codemirror_mode": {
    "name": "ipython",
    "version": 2
   },
   "file_extension": ".py",
   "mimetype": "text/x-python",
   "name": "python",
   "nbconvert_exporter": "python",
   "pygments_lexer": "ipython2",
   "version": "2.7.6"
  }
 },
 "nbformat": 4,
 "nbformat_minor": 0
}