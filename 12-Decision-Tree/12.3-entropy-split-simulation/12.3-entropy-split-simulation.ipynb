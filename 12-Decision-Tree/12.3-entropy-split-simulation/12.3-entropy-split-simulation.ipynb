{
 "cells": [
  {
   "cell_type": "code",
   "execution_count": 14,
   "metadata": {
    "collapsed": true
   },
   "outputs": [
    {
     "data": {
      "text/plain": "<Figure size 432x288 with 1 Axes>",
      "image/png": "[encoded data removed]"
     },
     "metadata": {
      "needs_background": "light"
     },
     "output_type": "display_data"
    }
   ],
   "source": [
    "import numpy as np\n",
    "from sklearn import datasets\n",
    "import matplotlib.pyplot as plt\n",
    "\n",
    "iris = datasets.load_iris()\n",
    "X = iris.data\n",
    "y = iris.target\n",
    "\n",
    "X = X[:, 2:]\n",
    "\n",
    "plt.scatter(X[y==0, 0], X[y==0, 1])\n",
    "plt.scatter(X[y==1, 0], X[y==1, 1])\n",
    "plt.scatter(X[y==2, 0], X[y==2, 1])\n",
    "plt.show()\n"
   ]
  },
  {
   "cell_type": "code",
   "execution_count": 15,
   "outputs": [
    {
     "name": "stdout",
     "output_type": "stream",
     "text": [
      "best_entropy= 0.46209812037329684\n",
      "best_d= 0\n",
      "best_value= 2.45\n",
      "0.0\n",
      "0.6931471805599453\n"
     ]
    }
   ],
   "source": [
    "from collections import Counter\n",
    "def split(X, y, d, value):\n",
    "    l_index = X[:, d] < value\n",
    "    r_index = X[:, d] >= value\n",
    "    return X[l_index], X[r_index], y[l_index], y[r_index]\n",
    "\n",
    "def entropy(y):\n",
    "    res = 0.0\n",
    "    counter = Counter(y)\n",
    "    for cnt in counter.values():\n",
    "        p = cnt/len(y)\n",
    "        res += -p*np.log(p)\n",
    "    return res\n",
    "\n",
    "def try_split(X, y):\n",
    "    best_entropy = float('inf')\n",
    "    best_d, best_value = -1, -1\n",
    "    for d in range(X.shape[1]):\n",
    "        sorted_index = np.argsort(X[:, d])\n",
    "        for v_index in range(1, X.shape[0]):\n",
    "            if X[sorted_index[v_index],d] != X[sorted_index[v_index-1],d]:\n",
    "                value = (X[sorted_index[v_index],d] + X[sorted_index[v_index-1], d])/2\n",
    "                X_l, X_r, y_l, y_r = split(X, y, d, value)\n",
    "                p_l, p_r = len(X_l) / len(X), len(X_r) / len(X)\n",
    "                e = p_l * entropy(y_l) + p_r * entropy(y_r)\n",
    "                if e < best_entropy :\n",
    "                    best_entropy, best_d, best_value = e, d, value\n",
    "    print('best_entropy=', best_entropy)\n",
    "    print('best_d=', best_d)\n",
    "    print('best_value=', best_value)\n",
    "\n",
    "    return best_entropy, best_d, best_value\n",
    "\n",
    "# 第1轮划分\n",
    "best_entropy, best_d, best_value  = try_split(X, y)\n",
    "X_l, X_r, y_l, y_r = split(X, y, best_d, best_value)\n",
    "print(entropy(y_l))\n",
    "print(entropy(y_r))\n"
   ],
   "metadata": {
    "collapsed": false,
    "pycharm": {
     "name": "#%%\n"
    }
   }
  },
  {
   "cell_type": "code",
   "execution_count": 16,
   "outputs": [
    {
     "name": "stdout",
     "output_type": "stream",
     "text": [
      "best_entropy= 0.2147644654371359\n",
      "best_d= 1\n",
      "best_value= 1.75\n"
     ]
    }
   ],
   "source": [
    "# 第2轮划分\n",
    "best_entropy, best_d, best_value  = try_split(X_r, y_r)\n",
    "\n"
   ],
   "metadata": {
    "collapsed": false,
    "pycharm": {
     "name": "#%%\n"
    }
   }
  },
  {
   "cell_type": "code",
   "execution_count": 16,
   "outputs": [],
   "source": [
    "\n"
   ],
   "metadata": {
    "collapsed": false,
    "pycharm": {
     "name": "#%%\n"
    }
   }
  }
 ],
 "metadata": {
  "kernelspec": {
   "display_name": "Python 3",
   "language": "python",
   "name": "python3"
  },
  "language_info": {
   "codemirror_mode": {
    "name": "ipython",
    "version": 2
   },
   "file_extension": ".py",
   "mimetype": "text/x-python",
   "name": "python",
   "nbconvert_exporter": "python",
   "pygments_lexer": "ipython2",
   "version": "2.7.6"
  }
 },
 "nbformat": 4,
 "nbformat_minor": 0
}