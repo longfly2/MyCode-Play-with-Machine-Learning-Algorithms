{
 "cells": [
  {
   "cell_type": "markdown",
   "source": [
    "## PCA 梯度上升"
   ],
   "metadata": {
    "collapsed": false,
    "pycharm": {
     "name": "#%% md\n"
    }
   }
  },
  {
   "cell_type": "code",
   "execution_count": 1,
   "outputs": [
    {
     "data": {
      "text/plain": "<Figure size 432x288 with 1 Axes>",
      "image/png": "[encoded data removed]"
     },
     "metadata": {
      "needs_background": "light"
     },
     "output_type": "display_data"
    }
   ],
   "source": [
    "import numpy as np\n",
    "import  matplotlib.pyplot as plt\n",
    "\n",
    "X = np.empty((100,2))\n",
    "X[:, 0] = np.random.uniform(0., 100., size=100)\n",
    "X[:, 1] = 0.75 * X[:, 0] + 3.0 + np.random.normal(0, 10, size=100)\n",
    "\n",
    "plt.scatter(X[:, 0], X[:, 1])\n",
    "plt.show()\n"
   ],
   "metadata": {
    "collapsed": false,
    "pycharm": {
     "name": "#%%\n"
    }
   }
  },
  {
   "cell_type": "code",
   "execution_count": 2,
   "outputs": [
    {
     "data": {
      "text/plain": "<Figure size 432x288 with 1 Axes>",
      "image/png": "[encoded data removed]"
     },
     "metadata": {
      "needs_background": "light"
     },
     "output_type": "display_data"
    }
   ],
   "source": [
    "def demean(X):\n",
    "    return X - np.mean(X, axis=0)\n",
    "\n",
    "X_demean = demean(X)\n",
    "\n",
    "plt.scatter(X_demean[:, 0], X_demean[:, 1])\n",
    "plt.show()"
   ],
   "metadata": {
    "collapsed": false,
    "pycharm": {
     "name": "#%%\n"
    }
   }
  },
  {
   "cell_type": "code",
   "execution_count": 3,
   "outputs": [],
   "source": [
    "def f(X, w):\n",
    "    return np.sum((X.dot(w)**2)) / len(X)\n",
    "\n",
    "def df_math(X, w):\n",
    "    return X.T.dot(X.dot(w)) *2/len(X)\n",
    "\n",
    "def df_debug(X, w, epsilon=1e-10):\n",
    "    ret = np.empty(len(w))\n",
    "    for i in range(len(w)):\n",
    "        w_copy1 = w.copy()\n",
    "        w_copy2 = w.copy()\n",
    "        w_copy1[i] += epsilon\n",
    "        w_copy2[i] -= epsilon\n",
    "        ret[i] = (f(X, w_copy1) - f(X, w_copy2)) / (2 * epsilon)\n",
    "    return ret\n",
    "\n",
    "def gradient_ascent(X, initial_w, df, eta=1e-3, n_iters=1e4, epsilon=1e-8):\n",
    "    def directional(w):\n",
    "        return w / np.linalg.norm(w)\n",
    "    w = initial_w\n",
    "    iter_cnt = 0\n",
    "    while iter_cnt < n_iters:\n",
    "        w = directional(w)\n",
    "        last_w = w\n",
    "        w = w + eta * df(X, w)\n",
    "        w = directional(w)\n",
    "        if abs(f(X, w) - f(X, last_w)) < epsilon:\n",
    "            break\n",
    "        iter_cnt += 1\n",
    "    return w"
   ],
   "metadata": {
    "collapsed": false,
    "pycharm": {
     "name": "#%%\n"
    }
   }
  },
  {
   "cell_type": "code",
   "execution_count": 4,
   "outputs": [
    {
     "data": {
      "text/plain": "array([0.76678906, 0.64189917])"
     },
     "execution_count": 4,
     "metadata": {},
     "output_type": "execute_result"
    }
   ],
   "source": [
    "initial_w = np.random.random(X.shape[1])\n",
    "w = gradient_ascent(X_demean, initial_w, df_debug)\n",
    "w"
   ],
   "metadata": {
    "collapsed": false,
    "pycharm": {
     "name": "#%%\n"
    }
   }
  },
  {
   "cell_type": "code",
   "execution_count": 4,
   "outputs": [],
   "source": [
    "\n"
   ],
   "metadata": {
    "collapsed": false,
    "pycharm": {
     "name": "#%%\n"
    }
   }
  }
 ],
 "metadata": {
  "kernelspec": {
   "display_name": "Python 3",
   "language": "python",
   "name": "python3"
  },
  "language_info": {
   "codemirror_mode": {
    "name": "ipython",
    "version": 2
   },
   "file_extension": ".py",
   "mimetype": "text/x-python",
   "name": "python",
   "nbconvert_exporter": "python",
   "pygments_lexer": "ipython2",
   "version": "2.7.6"
  }
 },
 "nbformat": 4,
 "nbformat_minor": 0
}