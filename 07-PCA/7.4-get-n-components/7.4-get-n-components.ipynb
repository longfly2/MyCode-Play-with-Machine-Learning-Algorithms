{
 "cells": [
  {
   "cell_type": "markdown",
   "metadata": {
    "collapsed": true,
    "pycharm": {
     "name": "#%% md\n"
    }
   },
   "source": [
    "## 获得前n个主成分"
   ]
  },
  {
   "cell_type": "code",
   "execution_count": 4,
   "outputs": [],
   "source": [
    "import numpy as np\n",
    "import matplotlib.pyplot as plt\n",
    "\n",
    "X = np.empty((100, 2))\n",
    "X[:,0] = np.random.uniform(0., 100., size=100)\n",
    "X[:,1] = 0.75 * X[:,0] + 3. + np.random.normal(0, 10., size=100)"
   ],
   "metadata": {
    "collapsed": false,
    "pycharm": {
     "name": "#%%\n"
    }
   }
  },
  {
   "cell_type": "code",
   "execution_count": 5,
   "outputs": [
    {
     "data": {
      "text/plain": "<Figure size 432x288 with 1 Axes>",
      "image/png": "[encoded data removed]"
     },
     "metadata": {
      "needs_background": "light"
     },
     "output_type": "display_data"
    }
   ],
   "source": [
    "def demean(X):\n",
    "    return X - np.mean(X, axis=0)\n",
    "X = demean(X)\n",
    "plt.scatter(X[:,0], X[:,1])\n",
    "plt.show()\n"
   ],
   "metadata": {
    "collapsed": false,
    "pycharm": {
     "name": "#%%\n"
    }
   }
  },
  {
   "cell_type": "code",
   "execution_count": 14,
   "outputs": [
    {
     "data": {
      "text/plain": "array([0.77370654, 0.63354415])"
     },
     "execution_count": 14,
     "metadata": {},
     "output_type": "execute_result"
    }
   ],
   "source": [
    "def f(w, X):\n",
    "    return np.sum((X.dot(w)**2)) / len(X)\n",
    "\n",
    "def df(w, X):\n",
    "    return X.T.dot(X.dot(w)) * 2. / len(X)\n",
    "\n",
    "def direction(w):\n",
    "    return w / np.linalg.norm(w)\n",
    "\n",
    "def first_component(X, initial_w, eta, n_iters = 1e4, epsilon=1e-8):\n",
    "\n",
    "    w = direction(initial_w)\n",
    "    cur_iter = 0\n",
    "\n",
    "    while cur_iter < n_iters:\n",
    "        gradient = df(w, X)\n",
    "        last_w = w\n",
    "        w = w + eta * gradient\n",
    "        w = direction(w)\n",
    "        if(abs(f(w, X) - f(last_w, X)) < epsilon):\n",
    "            break\n",
    "\n",
    "        cur_iter += 1\n",
    "\n",
    "    return w\n",
    "\n",
    "\n",
    "initial_w = np.random.random(X.shape[1])\n",
    "eta = 0.01\n",
    "w1 = first_component(X, initial_w, eta)\n",
    "w1\n"
   ],
   "metadata": {
    "collapsed": false,
    "pycharm": {
     "name": "#%%\n"
    }
   }
  },
  {
   "cell_type": "code",
   "execution_count": 15,
   "outputs": [
    {
     "name": "stdout",
     "output_type": "stream",
     "text": [
      "[-11.24152183 -11.08460088]\n",
      "[-0.63354097  0.77370914]\n"
     ]
    },
    {
     "data": {
      "text/plain": "<Figure size 432x288 with 1 Axes>",
      "image/png": "[encoded data removed]"
     },
     "metadata": {
      "needs_background": "light"
     },
     "output_type": "display_data"
    },
    {
     "data": {
      "text/plain": "4.104446844843679e-06"
     },
     "execution_count": 15,
     "metadata": {},
     "output_type": "execute_result"
    }
   ],
   "source": [
    "print(X[0])\n",
    "X2 = np.empty(X.shape)\n",
    "for i in range(X.shape[0]):\n",
    "    X2[i] = X[i] - X[i].dot(w1)*w1\n",
    "\n",
    "plt.scatter(X2[:,0], X2[:,1])\n",
    "plt.show()\n",
    "\n",
    "initial_w = np.random.random(X.shape[1])\n",
    "eta = 0.01\n",
    "w2 = first_component(X2, initial_w, eta)\n",
    "print(w2)\n",
    "\n",
    "w1.dot(w2)\n"
   ],
   "metadata": {
    "collapsed": false,
    "pycharm": {
     "name": "#%%\n"
    }
   }
  },
  {
   "cell_type": "code",
   "execution_count": 29,
   "outputs": [
    {
     "name": "stdout",
     "output_type": "stream",
     "text": [
      "[-1.57202230e+01  4.04068459e+01  4.40388761e+01  5.05972455e+01\n",
      "  6.98671977e+00 -2.06013319e+01  4.39820388e-02 -4.78155733e+01\n",
      " -1.59411703e+01 -1.10286084e+00 -3.69042424e+01 -4.97400247e+01\n",
      " -3.48672393e+01 -2.33696404e+01 -1.07106441e+01 -4.52621135e+01\n",
      " -6.20315385e+01  5.11766290e+01 -1.81669164e+01  1.92499958e+01\n",
      " -2.16165486e+01  2.34027646e+01  4.32086199e+01 -2.40493032e+01\n",
      " -4.16763931e+01  1.20323969e+01 -2.90377337e+01  3.66189406e+01\n",
      "  3.39154843e+01  7.33518816e+00 -4.45965052e+01 -7.31450319e+00\n",
      "  5.09872755e+01  1.51455980e+01 -4.09750977e+01 -3.81825163e+01\n",
      "  1.24105016e+01  1.71897858e+01 -4.26711042e+01 -5.59172735e+01\n",
      " -3.02026010e+01  3.48416858e+00  6.22154948e+01  4.86548365e+01\n",
      "  5.22629499e+01 -2.96923642e+01  3.98961628e+01 -9.95744546e+00\n",
      " -2.18645360e+01 -5.28285490e+01  5.28871237e+01 -3.83556623e+01\n",
      "  4.96841686e+01  3.09154443e+01 -5.57508561e+01  5.37242132e+00\n",
      " -7.70627301e+01  1.20602492e+01  1.46796332e+01  5.02783436e+01\n",
      " -1.50424874e+00 -3.71049963e+00 -4.36295419e+01  1.67470401e+01\n",
      "  2.83327275e+01  3.36480703e+01 -4.15663213e+01  3.00313371e+01\n",
      " -4.95240512e+01 -5.22423024e+01 -2.81713976e+01  5.22056730e+01\n",
      " -5.66916053e+01 -5.23795534e+01  3.80033630e+01  4.56160458e+01\n",
      "  4.33518378e+01  3.17062675e+01  5.33408302e+01  3.63009501e+01\n",
      "  5.55393069e+01  2.63601340e+00  1.61894019e+01  3.95962087e-01\n",
      "  1.29560215e+01  4.53902943e+01 -3.84078680e+01  4.49962655e+00\n",
      " -7.79575866e+00 -7.44531599e+00  7.38578188e+00 -2.94195542e+01\n",
      " -3.83514003e+01 -3.81291317e+01  2.21614270e+01  3.14691841e+01\n",
      "  2.51999863e+01 -5.68185963e+01  5.14250510e+01  1.81023429e+01]\n",
      "[[-1.57202230e+01]\n",
      " [ 4.04068459e+01]\n",
      " [ 4.40388761e+01]\n",
      " [ 5.05972455e+01]\n",
      " [ 6.98671977e+00]\n",
      " [-2.06013319e+01]\n",
      " [ 4.39820388e-02]\n",
      " [-4.78155733e+01]\n",
      " [-1.59411703e+01]\n",
      " [-1.10286084e+00]\n",
      " [-3.69042424e+01]\n",
      " [-4.97400247e+01]\n",
      " [-3.48672393e+01]\n",
      " [-2.33696404e+01]\n",
      " [-1.07106441e+01]\n",
      " [-4.52621135e+01]\n",
      " [-6.20315385e+01]\n",
      " [ 5.11766290e+01]\n",
      " [-1.81669164e+01]\n",
      " [ 1.92499958e+01]\n",
      " [-2.16165486e+01]\n",
      " [ 2.34027646e+01]\n",
      " [ 4.32086199e+01]\n",
      " [-2.40493032e+01]\n",
      " [-4.16763931e+01]\n",
      " [ 1.20323969e+01]\n",
      " [-2.90377337e+01]\n",
      " [ 3.66189406e+01]\n",
      " [ 3.39154843e+01]\n",
      " [ 7.33518816e+00]\n",
      " [-4.45965052e+01]\n",
      " [-7.31450319e+00]\n",
      " [ 5.09872755e+01]\n",
      " [ 1.51455980e+01]\n",
      " [-4.09750977e+01]\n",
      " [-3.81825163e+01]\n",
      " [ 1.24105016e+01]\n",
      " [ 1.71897858e+01]\n",
      " [-4.26711042e+01]\n",
      " [-5.59172735e+01]\n",
      " [-3.02026010e+01]\n",
      " [ 3.48416858e+00]\n",
      " [ 6.22154948e+01]\n",
      " [ 4.86548365e+01]\n",
      " [ 5.22629499e+01]\n",
      " [-2.96923642e+01]\n",
      " [ 3.98961628e+01]\n",
      " [-9.95744546e+00]\n",
      " [-2.18645360e+01]\n",
      " [-5.28285490e+01]\n",
      " [ 5.28871237e+01]\n",
      " [-3.83556623e+01]\n",
      " [ 4.96841686e+01]\n",
      " [ 3.09154443e+01]\n",
      " [-5.57508561e+01]\n",
      " [ 5.37242132e+00]\n",
      " [-7.70627301e+01]\n",
      " [ 1.20602492e+01]\n",
      " [ 1.46796332e+01]\n",
      " [ 5.02783436e+01]\n",
      " [-1.50424874e+00]\n",
      " [-3.71049963e+00]\n",
      " [-4.36295419e+01]\n",
      " [ 1.67470401e+01]\n",
      " [ 2.83327275e+01]\n",
      " [ 3.36480703e+01]\n",
      " [-4.15663213e+01]\n",
      " [ 3.00313371e+01]\n",
      " [-4.95240512e+01]\n",
      " [-5.22423024e+01]\n",
      " [-2.81713976e+01]\n",
      " [ 5.22056730e+01]\n",
      " [-5.66916053e+01]\n",
      " [-5.23795534e+01]\n",
      " [ 3.80033630e+01]\n",
      " [ 4.56160458e+01]\n",
      " [ 4.33518378e+01]\n",
      " [ 3.17062675e+01]\n",
      " [ 5.33408302e+01]\n",
      " [ 3.63009501e+01]\n",
      " [ 5.55393069e+01]\n",
      " [ 2.63601340e+00]\n",
      " [ 1.61894019e+01]\n",
      " [ 3.95962087e-01]\n",
      " [ 1.29560215e+01]\n",
      " [ 4.53902943e+01]\n",
      " [-3.84078680e+01]\n",
      " [ 4.49962655e+00]\n",
      " [-7.79575866e+00]\n",
      " [-7.44531599e+00]\n",
      " [ 7.38578188e+00]\n",
      " [-2.94195542e+01]\n",
      " [-3.83514003e+01]\n",
      " [-3.81291317e+01]\n",
      " [ 2.21614270e+01]\n",
      " [ 3.14691841e+01]\n",
      " [ 2.51999863e+01]\n",
      " [-5.68185963e+01]\n",
      " [ 5.14250510e+01]\n",
      " [ 1.81023429e+01]]\n"
     ]
    },
    {
     "ename": "ValueError",
     "evalue": "operands could not be broadcast together with shapes (100,) (2,) ",
     "output_type": "error",
     "traceback": [
      "\u001B[0;31m---------------------------------------------------------------------------\u001B[0m",
      "\u001B[0;31mValueError\u001B[0m                                Traceback (most recent call last)",
      "\u001B[0;32m<ipython-input-29-8a4fb36b16f0>\u001B[0m in \u001B[0;36m<module>\u001B[0;34m\u001B[0m\n\u001B[1;32m      3\u001B[0m \u001B[0mtemp2\u001B[0m \u001B[0;34m=\u001B[0m \u001B[0mtmp\u001B[0m\u001B[0;34m.\u001B[0m\u001B[0mreshape\u001B[0m\u001B[0;34m(\u001B[0m\u001B[0;34m-\u001B[0m\u001B[0;36m1\u001B[0m\u001B[0;34m,\u001B[0m \u001B[0;36m1\u001B[0m\u001B[0;34m)\u001B[0m\u001B[0;34m\u001B[0m\u001B[0;34m\u001B[0m\u001B[0m\n\u001B[1;32m      4\u001B[0m \u001B[0mprint\u001B[0m\u001B[0;34m(\u001B[0m\u001B[0mtemp2\u001B[0m\u001B[0;34m)\u001B[0m\u001B[0;34m\u001B[0m\u001B[0;34m\u001B[0m\u001B[0m\n\u001B[0;32m----> 5\u001B[0;31m \u001B[0mX2\u001B[0m \u001B[0;34m=\u001B[0m \u001B[0mX\u001B[0m \u001B[0;34m-\u001B[0m \u001B[0mX\u001B[0m\u001B[0;34m.\u001B[0m\u001B[0mdot\u001B[0m\u001B[0;34m(\u001B[0m\u001B[0mw1\u001B[0m\u001B[0;34m)\u001B[0m\u001B[0;34m*\u001B[0m \u001B[0mw1\u001B[0m\u001B[0;34m\u001B[0m\u001B[0;34m\u001B[0m\u001B[0m\n\u001B[0m\u001B[1;32m      6\u001B[0m \u001B[0mX2\u001B[0m\u001B[0;34m\u001B[0m\u001B[0;34m\u001B[0m\u001B[0m\n\u001B[1;32m      7\u001B[0m \u001B[0;34m\u001B[0m\u001B[0m\n",
      "\u001B[0;31mValueError\u001B[0m: operands could not be broadcast together with shapes (100,) (2,) "
     ]
    }
   ],
   "source": [
    "X2 = X - X.dot(w1)* w1\n",
    "X2"
   ],
   "metadata": {
    "collapsed": false,
    "pycharm": {
     "name": "#%%\n"
    }
   }
  },
  {
   "cell_type": "code",
   "execution_count": null,
   "outputs": [],
   "source": [
    "\n"
   ],
   "metadata": {
    "collapsed": false,
    "pycharm": {
     "name": "#%%\n"
    }
   }
  }
 ],
 "metadata": {
  "kernelspec": {
   "display_name": "Python 3",
   "language": "python",
   "name": "python3"
  },
  "language_info": {
   "codemirror_mode": {
    "name": "ipython",
    "version": 2
   },
   "file_extension": ".py",
   "mimetype": "text/x-python",
   "name": "python",
   "nbconvert_exporter": "python",
   "pygments_lexer": "ipython2",
   "version": "2.7.6"
  }
 },
 "nbformat": 4,
 "nbformat_minor": 0
}